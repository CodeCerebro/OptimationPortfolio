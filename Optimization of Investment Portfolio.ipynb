{
 "cells": [
  {
   "cell_type": "markdown",
   "metadata": {},
   "source": [
    "This is a script attempting to optimize the return of investment (ROI) on the equality portfolio."
   ]
  },
  {
   "cell_type": "code",
   "execution_count": 1,
   "metadata": {},
   "outputs": [
    {
     "name": "stdout",
     "output_type": "stream",
     "text": [
      "Please Input the Total of Investment: 275000\n",
      "Please Input the Number of Equities: 4\n",
      "Please Input the Symbol of Equities: aapl\n",
      "Please Input the Symbol of Equities: tsla\n",
      "Please Input the Symbol of Equities: goog\n",
      "Please Input the Symbol of Equities: nflx\n",
      "\n",
      "Current Portfolio Amount: $275000\n",
      "The Number of Equities: 4\n",
      "\n",
      "Current Equity: \n",
      "AAPL\n",
      "TSLA\n",
      "GOOG\n",
      "NFLX\n",
      "\n",
      "\n",
      "[*********************100%***********************]  1 of 1 completed\n",
      "[*********************100%***********************]  1 of 1 completed\n",
      "[*********************100%***********************]  1 of 1 completed\n",
      "[*********************100%***********************]  1 of 1 completed\n"
     ]
    },
    {
     "data": {
      "text/plain": [
       "<matplotlib.figure.Figure at 0x1203d5a58>"
      ]
     },
     "metadata": {},
     "output_type": "display_data"
    },
    {
     "name": "stdout",
     "output_type": "stream",
     "text": [
      "\n",
      "Optimazation Parameters and Shares Allocation\n",
      "\n",
      "OrderedDict([('AAPL', 0.54674), ('TSLA', 0.17681), ('GOOG', 0.0), ('NFLX', 0.27645)])\n",
      "Expected annual return: 36.1%\n",
      "Annual volatility: 28.4%\n",
      "Sharpe Ratio: 1.20\n",
      "\n",
      "Shares Allocation: {'AAPL': 453.0, 'TSLA': 55.0, 'NFLX': 181.0}\n",
      "Funds Remaining: $171.60\n"
     ]
    }
   ],
   "source": [
    "# Import python libraries\n",
    "import os\n",
    "import pandas as pd\n",
    "import numpy as np\n",
    "from datetime import datetime\n",
    "import matplotlib.pyplot as plt\n",
    "import yfinance as yf\n",
    "from pypfopt import EfficientFrontier, risk_models, expected_returns\n",
    "plt.style.use(\"fivethirtyeight\")\n",
    "\n",
    "\n",
    "# User's input total investment amount, number of equilities and equility symbols\n",
    "\n",
    "# Total investment amount\n",
    "\n",
    "total_investment = int(input(\"Please Input the Total of Investment: \"))\n",
    "n_equity = int(input(\"Please Input the Number of Equities: \"))\n",
    "equities = [str(input(\"Please Input the Symbol of Equities: \")).upper() for i in range(n_equity)]\n",
    "\n",
    "print(\"\\nCurrent Portfolio Amount: \" + \"$\" + str(total_investment))\n",
    "print(\"The Number of Equities: \" + str(n_equity) + '\\n')\n",
    "print(\"Current Equity: \") \n",
    "[print(equity) for equity in equities]\n",
    "print('\\n')\n",
    "\n",
    "# obtaining historical price\n",
    "\n",
    "# choosing date to retrieve historical price\n",
    "startDate = \"2016-01-01\"\n",
    "endDate = datetime.today().strftime(\"%Y-%m-%d\")\n",
    "\n",
    "df = pd.DataFrame()\n",
    "                                    \n",
    "for equity in equities:\n",
    "    # retrieving historical price from yahoo finance and return the adje                               \n",
    "    df[equity] = yf.download(equity, startDate, endDate)['Adj Close']\n",
    "    \n",
    "fig, ax = plt.subplots(figsize=(12, 12))\n",
    "\n",
    "ax = plt.gca()\n",
    "title = 'Adj. Close Price'\n",
    "\n",
    "for sym in list(df.columns):\n",
    "    plt.plot(df[sym], label = sym)\n",
    "\n",
    "\n",
    "ax.set(xlabel=\"Date\",\n",
    "       ylabel=\"Adj. Price USD $\",\n",
    "       title = title)\n",
    "plt.legend(list(df.columns), loc = 'upper left')\n",
    "plt.show()\n",
    "\n",
    "# Portfolio Optimization for Each Assest\n",
    "\n",
    "# Expected returns and annualized sample covariance matrix\n",
    "\n",
    "mu = expected_returns.mean_historical_return(df)\n",
    "S = risk_models.sample_cov(df)\n",
    "\n",
    "# Optimizing for max sharpe ratio based on volatility \n",
    "ef = EfficientFrontier(mu, S)\n",
    "weights = ef.max_sharpe()\n",
    "cleaned_weights = ef.clean_weights()\n",
    "\n",
    "print(\"\\nOptimazation Parameters and Shares Allocation\\n\")\n",
    "print(cleaned_weights)\n",
    "ef.portfolio_performance(verbose = True)\n",
    "\n",
    "# Allocating numbers of shares for each assest\n",
    "\n",
    "from pypfopt import DiscreteAllocation, get_latest_prices\n",
    "\n",
    "latest_prices = get_latest_prices(df)\n",
    "weights = cleaned_weights\n",
    "da = DiscreteAllocation(weights, latest_prices, total_portfolio_value = total_investment)\n",
    "\n",
    "allocation, leftover = da.lp_portfolio() # creating variables, allocation and leftover\n",
    "\n",
    "print('\\nShares Allocation:', allocation)\n",
    "print('Funds Remaining: ${:.2f}'.format(leftover))\n",
    "\n",
    "\n",
    "\n"
   ]
  },
  {
   "cell_type": "code",
   "execution_count": null,
   "metadata": {},
   "outputs": [],
   "source": []
  }
 ],
 "metadata": {
  "kernelspec": {
   "display_name": "Python 3",
   "language": "python",
   "name": "python3"
  },
  "language_info": {
   "codemirror_mode": {
    "name": "ipython",
    "version": 3
   },
   "file_extension": ".py",
   "mimetype": "text/x-python",
   "name": "python",
   "nbconvert_exporter": "python",
   "pygments_lexer": "ipython3",
   "version": "3.6.2"
  }
 },
 "nbformat": 4,
 "nbformat_minor": 2
}
